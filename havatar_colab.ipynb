{
  "cells": [
    {
      "cell_type": "markdown",
      "metadata": {
        "id": "view-in-github"
      },
      "source": [
        "[![Open In Colab](https://colab.research.google.com/assets/colab-badge.svg)](https://colab.research.google.com/github/camenduru/havatar-colab/blob/main/havatar_colab.ipynb)"
      ]
    },
    {
      "cell_type": "code",
      "execution_count": null,
      "metadata": {
        "id": "VjYy0F2gZIPR"
      },
      "outputs": [],
      "source": [
        "%cd /content\n",
        "!git clone -b dev https://github.com/camenduru/havatar\n",
        "%cd /content/havatar\n",
        "\n",
        "!apt -y install -qq aria2\n",
        "!aria2c --console-log-level=error -c -x 16 -s 16 -k 1M https://huggingface.co/camenduru/havatar/resolve/main/faceverse_v3_1.npy -d /content/havatar/data_preprocessing/metamodel/v3 -o faceverse_v3_1.npy\n",
        "!aria2c --console-log-level=error -c -x 16 -s 16 -k 1M https://huggingface.co/camenduru/havatar/resolve/main/rvm_resnet50_fp32.torchscript -d /content/havatar/data_preprocessing/BgMatting_models -o rvm_resnet50_fp32.torchscript\n",
        "\n",
        "!aria2c --console-log-level=error -c -x 16 -s 16 -k 1M https://huggingface.co/camenduru/havatar/resolve/main/demo_dataset.zip -d /content/havatar/data/demo -o demo_dataset.zip\n",
        "%cd /content/havatar/data/demo\n",
        "!unzip demo_dataset.zip\n",
        "!mv /content/havatar/data/demo/demo_dataset/* /content/havatar/data/demo/\n",
        "%cd /content/havatar\n",
        "!rm -rf /content/havatar/data/demo/sv_v31_all.json\n",
        "!aria2c --console-log-level=error -c -x 16 -s 16 -k 1M https://huggingface.co/camenduru/havatar/raw/main/sv_v31_all.json -d /content/havatar/data/demo -o sv_v31_all.json\n",
        "!aria2c --console-log-level=error -c -x 16 -s 16 -k 1M https://huggingface.co/camenduru/havatar/resolve/main/latest.pt -d /content/havatar/logs/demo/HD -o latest.pt\n",
        "\n",
        "%cd /content/havatar/model/op\n",
        "!python setup.py install\n",
        "%cd /content/havatar\n",
        "\n",
        "!pip install -q einops"
      ]
    },
    {
      "cell_type": "code",
      "execution_count": null,
      "metadata": {},
      "outputs": [],
      "source": [
        "%cd /content/havatar\n",
        "!python avatarHD_reenactment.py --savedir /content/havatar/results/demo/self-recon --ckpt /content/havatar/logs/demo/HD/latest.pt --split /content/havatar/data/demo/sv_v31_all.json"
      ]
    }
  ],
  "metadata": {
    "accelerator": "GPU",
    "colab": {
      "gpuType": "T4",
      "provenance": []
    },
    "kernelspec": {
      "display_name": "Python 3",
      "name": "python3"
    },
    "language_info": {
      "name": "python"
    }
  },
  "nbformat": 4,
  "nbformat_minor": 0
}
